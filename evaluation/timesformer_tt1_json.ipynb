{
 "cells": [
  {
   "cell_type": "code",
   "execution_count": 1,
   "metadata": {},
   "outputs": [
    {
     "data": {
      "text/plain": [
       "{'Air_Force_One': [],\n",
       " 'Base jumping': [],\n",
       " 'Bearpark_climbing': [],\n",
       " 'Bike Polo': [],\n",
       " 'Bus_in_Rock_Tunnel': [],\n",
       " 'car_over_camera': [],\n",
       " 'Car_railcrossing': [],\n",
       " 'Cockpit_Landing': [],\n",
       " 'Cooking': [],\n",
       " 'Eiffel Tower': [],\n",
       " 'Excavators river crossing': [],\n",
       " 'Fire Domino': [],\n",
       " 'Jumps': [],\n",
       " 'Kids_playing_in_leaves': [],\n",
       " 'Notre_Dame': [],\n",
       " 'Paintball': [],\n",
       " 'paluma_jump': [],\n",
       " 'playing_ball': [],\n",
       " 'Playing_on_water_slide': [],\n",
       " 'Saving dolphines': [],\n",
       " 'Scuba': [],\n",
       " 'St Maarten Landing': [],\n",
       " 'Statue of Liberty': [],\n",
       " 'Uncut_Evening_Flight': [],\n",
       " 'Valparaiso_Downhill': []}"
      ]
     },
     "execution_count": 1,
     "metadata": {},
     "output_type": "execute_result"
    }
   ],
   "source": [
    "import os\n",
    "import cv2\n",
    "\n",
    "video_dir = \"data/summe/summarized/tt1/summarized_txt\"\n",
    "txt_dict = {}\n",
    "\n",
    "for video_file in os.listdir(video_dir):\n",
    "    if not video_file.endswith(\"txt\"):\n",
    "        continue\n",
    "    \n",
    "    filename = video_file.split(\".\")[0]\n",
    "\n",
    "    txt_dict[filename] = []\n",
    "\n",
    "txt_dict"
   ]
  },
  {
   "cell_type": "code",
   "execution_count": 2,
   "metadata": {},
   "outputs": [
    {
     "data": {
      "text/plain": [
       "{'Air_Force_One.mp4': 4494,\n",
       " 'Base jumping.mp4': 4729,\n",
       " 'Bearpark_climbing.mp4': 3341,\n",
       " 'Bike Polo.mp4': 3064,\n",
       " 'Bus_in_Rock_Tunnel.mp4': 5133,\n",
       " 'car_over_camera.mp4': 4382,\n",
       " 'Car_railcrossing.mp4': 5075,\n",
       " 'Cockpit_Landing.mp4': 9046,\n",
       " 'Cooking.mp4': 1287,\n",
       " 'Eiffel Tower.mp4': 4971,\n",
       " 'Excavators river crossing.mp4': 9721,\n",
       " 'Fire Domino.mp4': 1612,\n",
       " 'Jumps.mp4': 950,\n",
       " 'Kids_playing_in_leaves.mp4': 3187,\n",
       " 'Notre_Dame.mp4': 4608,\n",
       " 'Paintball.mp4': 6096,\n",
       " 'paluma_jump.mp4': 2574,\n",
       " 'playing_ball.mp4': 3119,\n",
       " 'Playing_on_water_slide.mp4': 3065,\n",
       " 'Saving dolphines.mp4': 6683,\n",
       " 'Scuba.mp4': 2221,\n",
       " 'St Maarten Landing.mp4': 1751,\n",
       " 'Statue of Liberty.mp4': 3863,\n",
       " 'Uncut_Evening_Flight.mp4': 9672,\n",
       " 'Valparaiso_Downhill.mp4': 5178}"
      ]
     },
     "execution_count": 2,
     "metadata": {},
     "output_type": "execute_result"
    }
   ],
   "source": [
    "import os\n",
    "import cv2\n",
    "\n",
    "video_folder = \"data/summe/videos\"\n",
    "total_frames_dict = {}\n",
    "\n",
    "for video_file in os.listdir(video_folder):\n",
    "    if not video_file.endswith(\"mp4\"):\n",
    "        continue\n",
    "    video_path = os.path.join(video_folder, video_file)\n",
    "    cap = cv2.VideoCapture(video_path)\n",
    "    total_frames = int(cap.get(cv2.CAP_PROP_FRAME_COUNT))\n",
    "    total_frames_dict[video_file] = total_frames\n",
    "    cap.release()\n",
    "\n",
    "total_frames_dict\n"
   ]
  },
  {
   "cell_type": "code",
   "execution_count": 3,
   "metadata": {},
   "outputs": [],
   "source": [
    "for file in txt_dict.keys():\n",
    "    with open(os.path.join(video_dir, file)+ '.mp4.txt', \"r\") as f:\n",
    "        for line in f:\n",
    "            txt_dict[file].append(line.strip())\n",
    "\n",
    "for key, value in txt_dict.items():\n",
    "    value = list(map(int, value))\n",
    "    #print(value)\n",
    "\n",
    "    total_frame = total_frames_dict[key + '.mp4']\n",
    "    #print(total_frame)\n",
    "\n",
    "    evaluate_list = [0] * total_frame\n",
    "    for i in value:\n",
    "        evaluate_list[i] = 1\n",
    "\n",
    "    #print(evaluate_list)\n",
    "\n",
    "    segments = []\n",
    "    for i in range(1, len(evaluate_list)):\n",
    "        if evaluate_list[i] != evaluate_list[i-1]:\n",
    "            segments.append(i)\n",
    "    \n",
    "    #print(segments)\n",
    "    #print(len(segments))\n",
    "\n",
    "    final_dict = {\n",
    "        'summary': evaluate_list,\n",
    "        'segment': segments\n",
    "    }\n",
    "\n",
    "    txt_dict[key] = final_dict"
   ]
  },
  {
   "cell_type": "code",
   "execution_count": null,
   "metadata": {},
   "outputs": [],
   "source": [
    "txt_dict"
   ]
  },
  {
   "cell_type": "code",
   "execution_count": 5,
   "metadata": {},
   "outputs": [],
   "source": [
    "import json\n",
    "\n",
    "# Assuming txt_dict is your dictionary variable\n",
    "json_data = json.dumps(txt_dict)\n",
    "\n",
    "# Save the JSON data to a file\n",
    "with open('test_tt01.json', 'w') as json_file:\n",
    "    json_file.write(json_data)"
   ]
  },
  {
   "cell_type": "code",
   "execution_count": 6,
   "metadata": {},
   "outputs": [],
   "source": [
    "import json\n",
    "\n",
    "# Read the contents of summe.json\n",
    "with open('test_tt01.json', 'r') as summe_file:\n",
    "    summe_data = json.load(summe_file)\n",
    "\n",
    "# Read the contents of exam.json\n",
    "with open('example.json', 'r') as exam_file:\n",
    "    exam_data = json.load(exam_file)"
   ]
  },
  {
   "cell_type": "code",
   "execution_count": 7,
   "metadata": {},
   "outputs": [
    {
     "name": "stdout",
     "output_type": "stream",
     "text": [
      "Summary for Bus_in_Rock_Tunnel is different.\n",
      "5133\n",
      "5131\n",
      "5131\n",
      "5131\n",
      "Summary for Cooking is different.\n",
      "1287\n",
      "1286\n",
      "1286\n",
      "1286\n",
      "Summary for playing_ball is different.\n",
      "3119\n",
      "3120\n",
      "Exam: 3120\n",
      "Summe: 3119\n",
      "3120\n",
      "3120\n"
     ]
    }
   ],
   "source": [
    "#check summary\n",
    "\n",
    "len(summe_data['Air_Force_One']['summary']) == len(exam_data['Air_Force_One']['summary'])\n",
    "\n",
    "for key in summe_data.keys():\n",
    "    if len(summe_data[key]['summary']) != len(exam_data[key]['summary']):\n",
    "        print(f\"Summary for {key} is different.\")\n",
    "        \n",
    "        print(len(summe_data[key]['summary']))\n",
    "        print(len(exam_data[key]['summary']))\n",
    "\n",
    "        #make sure the length is the same\n",
    "        if len(summe_data[key]['summary']) < len(exam_data[key]['summary']):\n",
    "            \n",
    "            len_exam = len(exam_data[key]['summary'])\n",
    "            len_summe = len(summe_data[key]['summary'])\n",
    "\n",
    "            print(f\"Exam: {len_exam}\")\n",
    "            print(f\"Summe: {len_summe}\")\n",
    "\n",
    "            summe_data[key]['summary'] += [0] *(len_exam - len_summe)\n",
    "        else:\n",
    "            summe_data[key]['summary'] = summe_data[key]['summary'][:len(exam_data[key]['summary'])]\n",
    "                                                \n",
    "        print(len(summe_data[key]['summary']))\n",
    "        print(len(exam_data[key]['summary']))\n",
    "    "
   ]
  },
  {
   "cell_type": "code",
   "execution_count": 8,
   "metadata": {},
   "outputs": [],
   "source": [
    "import json\n",
    "\n",
    "json_file_path = 'summe_tt01.json'\n",
    "\n",
    "# Dump the summe_data to a JSON file\n",
    "with open(json_file_path, 'w') as json_file:\n",
    "    json.dump(summe_data, json_file)"
   ]
  },
  {
   "cell_type": "code",
   "execution_count": 9,
   "metadata": {},
   "outputs": [
    {
     "name": "stdout",
     "output_type": "stream",
     "text": [
      "Summary for Air_Force_One is the same.\n",
      "Summary for Base jumping is the same.\n",
      "Summary for Bearpark_climbing is the same.\n",
      "Summary for Bike Polo is the same.\n",
      "Summary for Bus_in_Rock_Tunnel is the same.\n",
      "Summary for car_over_camera is the same.\n",
      "Summary for Car_railcrossing is the same.\n",
      "Summary for Cockpit_Landing is the same.\n",
      "Summary for Cooking is the same.\n",
      "Summary for Eiffel Tower is the same.\n",
      "Summary for Excavators river crossing is the same.\n",
      "Summary for Fire Domino is the same.\n",
      "Summary for Jumps is the same.\n",
      "Summary for Kids_playing_in_leaves is the same.\n",
      "Summary for Notre_Dame is the same.\n",
      "Summary for Paintball is the same.\n",
      "Summary for paluma_jump is the same.\n",
      "Summary for playing_ball is the same.\n",
      "Summary for Playing_on_water_slide is the same.\n",
      "Summary for Saving dolphines is the same.\n",
      "Summary for Scuba is the same.\n",
      "Summary for St Maarten Landing is the same.\n",
      "Summary for Statue of Liberty is the same.\n",
      "Summary for Uncut_Evening_Flight is the same.\n",
      "Summary for Valparaiso_Downhill is the same.\n"
     ]
    }
   ],
   "source": [
    "#check summary again\n",
    "with open('summe_tt01.json', 'r') as summe_final_file:\n",
    "    summe_final_data = json.load(summe_final_file)\n",
    "\n",
    "for key in summe_final_data.keys():\n",
    "    if len(summe_final_data[key]['summary']) != len(exam_data[key]['summary']):\n",
    "        print(f\"Summary for {key} is different.\")\n",
    "    else:\n",
    "        print(f\"Summary for {key} is the same.\")"
   ]
  }
 ],
 "metadata": {
  "kernelspec": {
   "display_name": "Python 3",
   "language": "python",
   "name": "python3"
  },
  "language_info": {
   "codemirror_mode": {
    "name": "ipython",
    "version": 3
   },
   "file_extension": ".py",
   "mimetype": "text/x-python",
   "name": "python",
   "nbconvert_exporter": "python",
   "pygments_lexer": "ipython3",
   "version": "3.8.0"
  }
 },
 "nbformat": 4,
 "nbformat_minor": 2
}
